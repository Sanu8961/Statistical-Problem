{
 "cells": [
  {
   "cell_type": "code",
   "execution_count": null,
   "id": "dc57cfe3",
   "metadata": {},
   "outputs": [],
   "source": [
    "#Section 2 Questions\n",
    "\n",
    "\n",
    "#1. X is normally distributed, and the mean is 12 and standard deviation is 4. Find out the probability of the following:\n",
    "\n",
    "#(i) P( X >= 20 ) (ii) P( X <= 20 ) (iii) P( 0 <= X <= 12)"
   ]
  },
  {
   "cell_type": "code",
   "execution_count": 1,
   "id": "1ac5d643",
   "metadata": {},
   "outputs": [
    {
     "name": "stdout",
     "output_type": "stream",
     "text": [
      "P(X >= 20) = 0.02275013194817921\n",
      "P(X <= 20) = 0.9772498680518208\n",
      "P(0 <= X <= 12) = 0.4986501019683699\n"
     ]
    }
   ],
   "source": [
    "from scipy.stats import norm\n",
    "\n",
    "# Set the parameters of the normal distribution\n",
    "mean = 12\n",
    "std_dev = 4\n",
    "\n",
    "# Calculate the probability of X >= 20\n",
    "p_x_ge_20 = 1 - norm.cdf(20, mean, std_dev)\n",
    "print(\"P(X >= 20) =\", p_x_ge_20)\n",
    "\n",
    "# Calculate the probability of X <= 20\n",
    "p_x_le_20 = norm.cdf(20, mean, std_dev)\n",
    "print(\"P(X <= 20) =\", p_x_le_20)\n",
    "\n",
    "# Calculate the probability of 0 <= X <= 12\n",
    "p_0_le_x_le_12 = norm.cdf(12, mean, std_dev) - norm.cdf(0, mean, std_dev)\n",
    "print(\"P(0 <= X <= 12) =\", p_0_le_x_le_12)"
   ]
  },
  {
   "cell_type": "code",
   "execution_count": null,
   "id": "4533142a",
   "metadata": {},
   "outputs": [],
   "source": [
    "#Therefore, the probability of:\n",
    "\n",
    "#(i) P(X >= 20) is approximately 0.0227 or 2.28%.\n",
    "\n",
    "#(ii) P(X <= 20) is approximately 0.9772 or 97.8%.\n",
    "\n",
    "#(iii) P(0 <= X <= 12) is approximately 0.49 or 50%."
   ]
  },
  {
   "cell_type": "code",
   "execution_count": 3,
   "id": "59c0b4a2",
   "metadata": {},
   "outputs": [
    {
     "name": "stdout",
     "output_type": "stream",
     "text": [
      "Expected number of plots with yield over 700 kilos: 117.52\n",
      "Expected number of plots with yield below 650 kilos: 353.83\n",
      "Lowest yield among the best 100 plots: 654.56\n"
     ]
    }
   ],
   "source": [
    "#2 The mean yield for one-acre plot is 662 kilos with a s.d. 32 kilos. Assuming normal distribution, \n",
    "#how many one-acre plots in a batch of 1000 plots would you expect to haveyield.\n",
    "\n",
    "# (i) over 700 kilos (ii) below 650 kilos, and (iii) what is the lowest yield of the best 100 plots?\n",
    "\n",
    "import scipy.stats as stats\n",
    "\n",
    "# Parameters\n",
    "mu = 662 # mean yield\n",
    "sigma = 32 # standard deviation\n",
    "n = 1000 # number of plots\n",
    "\n",
    "# (i) Yield over 700 kilos\n",
    "x1 = 700 # value of interest\n",
    "z1 = (x1 - mu) / sigma # standardized score\n",
    "p1 = 1 - stats.norm.cdf(z1) # proportion of plots with yield over 700 kilos\n",
    "num_plots1 = p1 * n # expected number of plots with yield over 700 kilos\n",
    "print(f\"Expected number of plots with yield over 700 kilos: {num_plots1:.2f}\")\n",
    "\n",
    "# (ii) Yield below 650 kilos\n",
    "x2 = 650 # value of interest\n",
    "z2 = (x2 - mu) / sigma # standardized score\n",
    "p2 = stats.norm.cdf(z2) # proportion of plots with yield below 650 kilos\n",
    "num_plots2 = p2 * n # expected number of plots with yield below 650 kilos\n",
    "print(f\"Expected number of plots with yield below 650 kilos: {num_plots2:.2f}\")\n",
    "\n",
    "# (iii) Lowest yield of the best 100 plots\n",
    "n3 = 100 # sample size\n",
    "mu3 = mu # mean yield of maximum yield among 100 plots\n",
    "sigma3 = sigma / (n3 ** 0.5) # standard deviation of maximum yield among 100 plots\n",
    "p3 = 0.01 # probability of getting a yield less than x\n",
    "z3 = stats.norm.ppf(p3) # z-score corresponding to probability p3\n",
    "x3 = mu3 + z3 * sigma3 # lowest yield among the best 100 plots\n",
    "print(f\"Lowest yield among the best 100 plots: {x3:.2f}\")\n"
   ]
  },
  {
   "cell_type": "code",
   "execution_count": 4,
   "id": "59a1381a",
   "metadata": {},
   "outputs": [
    {
     "name": "stdout",
     "output_type": "stream",
     "text": [
      "Probability of getting at least 7 heads: 0.1719\n"
     ]
    }
   ],
   "source": [
    "#3 Ten coins are thrown simultaneously. Find the probability of getting at least seven heads?\n",
    "\n",
    "import scipy.stats as stats\n",
    "\n",
    "# Parameters\n",
    "n = 10 # number of coins\n",
    "p = 0.5 # probability of heads\n",
    "\n",
    "# Probability of getting at least seven heads\n",
    "k = 7 # minimum number of heads\n",
    "p_at_least_k = 1 - stats.binom.cdf(k - 1, n, p) # probability of getting at least k heads\n",
    "print(f\"Probability of getting at least {k} heads: {p_at_least_k:.4f}\")"
   ]
  },
  {
   "cell_type": "code",
   "execution_count": 8,
   "id": "71e2110e",
   "metadata": {},
   "outputs": [
    {
     "name": "stdout",
     "output_type": "stream",
     "text": [
      "Proportion of days on which neither car is used: 0.0000\n",
      "Proportion of days on which two demands are there: 0.2842\n",
      "Proportion of days on which all cars are used: 0.0361\n"
     ]
    }
   ],
   "source": [
    "#4 A car hire firm has five cars which it fires out day by day. The number of demands for a\n",
    "#car on each day is distributed as Poisson variate with mean 2. Calculate the proportion of days on which\n",
    "#(i) neither car is used.\n",
    "#(ii) two demand is there.\n",
    "#(iii) all car used.\n",
    "\n",
    "import scipy.stats as stats\n",
    "\n",
    "# Parameters\n",
    "n_cars = 5 # number of cars\n",
    "mu = 2 # mean demand per day\n",
    "\n",
    "# (i) Proportion of days on which neither car is used\n",
    "k1 = 0 # number of demands\n",
    "p1 = stats.poisson.pmf(k1, mu) # probability of k1 demands\n",
    "prop1 = p1 ** n_cars # proportion of days with no demands for any car\n",
    "print(f\"Proportion of days on which neither car is used: {prop1:.4f}\")\n",
    "\n",
    "# (ii) Proportion of days on which two demands are there\n",
    "k2 = 2 # number of demands\n",
    "p2 = stats.poisson.pmf(k2, mu) # probability of k2 demands\n",
    "prop2 = stats.binom.pmf(2, n_cars, p2) # proportion of days with two demands for any two cars\n",
    "print(f\"Proportion of days on which two demands are there: {prop2:.4f}\")\n",
    "\n",
    "# (iii) Proportion of days on which all cars are used\n",
    "k3 = 5 # number of demands\n",
    "p3 = stats.poisson.pmf(k3, mu) # probability of k3 demands\n",
    "prop3 = p3 # proportion of days with 5 demands for all cars\n",
    "print(f\"Proportion of days on which all cars are used: {prop3:.4f}\")"
   ]
  },
  {
   "cell_type": "code",
   "execution_count": 9,
   "id": "06e033b3",
   "metadata": {},
   "outputs": [
    {
     "name": "stdout",
     "output_type": "stream",
     "text": [
      "Reject null hypothesis. The machine is malfunctioning.\n"
     ]
    }
   ],
   "source": [
    "#5 An engineer works for Coca Cola. He knows that the filling machine has a variance of 6 cl. (the filling process can be approximated by a NormalDistribution). \n",
    "#Knowing this, he sets the machine to a target fill of 348 cl. In a routine check with 25 cans, he measures an average of 345 cl. \n",
    "#Is it possible that the machine is malfunctioning?\n",
    "\n",
    "import math\n",
    "import scipy.stats as stats\n",
    "\n",
    "# Null hypothesis: the machine is not malfunctioning (mean fill = target fill = 348 cl)\n",
    "# Alternative hypothesis: the machine is malfunctioning (mean fill < 348 cl)\n",
    "\n",
    "# Parameters\n",
    "n = 25 # sample size\n",
    "mu0 = 348 # target fill\n",
    "sigma = math.sqrt(6) # standard deviation of fill\n",
    "x_bar = 345 # sample mean fill\n",
    "\n",
    "# Test statistic (z-score)\n",
    "z = (x_bar - mu0) / (sigma / math.sqrt(n))\n",
    "\n",
    "# One-tailed p-value\n",
    "p_value = stats.norm.cdf(z)\n",
    "\n",
    "# Significance level\n",
    "alpha = 0.05\n",
    "\n",
    "# Decision rule: reject null hypothesis if p-value < alpha\n",
    "if p_value < alpha:\n",
    "    print(f\"Reject null hypothesis. The machine is malfunctioning.\")\n",
    "else:\n",
    "    print(f\"Fail to reject null hypothesis. The machine is not malfunctioning.\")"
   ]
  },
  {
   "cell_type": "code",
   "execution_count": 10,
   "id": "582037e1",
   "metadata": {},
   "outputs": [
    {
     "name": "stdout",
     "output_type": "stream",
     "text": [
      "Reject null hypothesis. Opinions are dependent on domain groupings.\n"
     ]
    }
   ],
   "source": [
    "#6 A random sample of corporate employees of a firm was selected and asked their opinions about HR department polices.\n",
    "#The same number of each gender was included within each domain group. Test the hypothesis at 5% level that opinions\n",
    "#are independent of the domain groupings:\n",
    "\n",
    "\n",
    "import numpy as np\n",
    "import scipy.stats as stats\n",
    "\n",
    "# Null hypothesis: opinions are independent of domain groupings\n",
    "# Alternative hypothesis: opinions are dependent on domain groupings\n",
    "\n",
    "# Observed frequencies\n",
    "observed = np.array([[120, 80], [130, 70], [70, 30], [80, 20]])\n",
    "\n",
    "# Calculate expected frequencies (under the null hypothesis of independence)\n",
    "row_totals = observed.sum(axis=1)\n",
    "col_totals = observed.sum(axis=0)\n",
    "total = observed.sum()\n",
    "expected = np.outer(row_totals, col_totals) / total\n",
    "\n",
    "# Calculate chi-square statistic\n",
    "chi2 = ((observed - expected)**2 / expected).sum()\n",
    "\n",
    "# Calculate degrees of freedom\n",
    "df = (observed.shape[0] - 1) * (observed.shape[1] - 1)\n",
    "\n",
    "# Calculate p-value\n",
    "p_value = 1 - stats.chi2.cdf(chi2, df)\n",
    "\n",
    "# Significance level\n",
    "alpha = 0.05\n",
    "\n",
    "# Decision rule: reject null hypothesis if p-value < alpha\n",
    "if p_value < alpha:\n",
    "    print(\"Reject null hypothesis. Opinions are dependent on domain groupings.\")\n",
    "else:\n",
    "    print(\"Fail to reject null hypothesis. Opinions are independent of domain groupings.\")\n"
   ]
  },
  {
   "cell_type": "code",
   "execution_count": 27,
   "id": "7f9d5b78",
   "metadata": {},
   "outputs": [
    {
     "name": "stdout",
     "output_type": "stream",
     "text": [
      "         campaign_id     sender  subject_len      body_len  \\\n",
      "Mean      944.500000   4.395657    86.246292  14185.780191   \n",
      "Median    944.500000   3.000000    83.000000  12689.000000   \n",
      "Mode        1.000000   3.000000    77.000000  19716.000000   \n",
      "Std Dev   545.162973   3.277927    30.143206   7327.615307   \n",
      "Range    1887.000000  15.000000   256.000000  44468.000000   \n",
      "Q1        472.750000   3.000000    69.000000   9554.500000   \n",
      "Q2        944.500000   3.000000    83.000000  12689.000000   \n",
      "Q3       1416.250000   3.000000    98.000000  17351.500000   \n",
      "\n",
      "         mean_paragraph_len  day_of_week  is_weekend   category    product  \\\n",
      "Mean              35.239407     2.828390    0.199682   9.949682  17.525424   \n",
      "Median            29.000000     3.000000    0.000000  10.000000  12.000000   \n",
      "Mode              26.000000     3.000000    0.000000  15.000000   9.000000   \n",
      "Std Dev           28.139498     1.763193    0.399867   5.300719  12.369526   \n",
      "Range            282.000000     6.000000    1.000000  15.000000  43.000000   \n",
      "Q1                21.000000     1.000000    0.000000   6.000000   9.000000   \n",
      "Q2                29.000000     3.000000    0.000000  10.000000  12.000000   \n",
      "Q3                40.000000     4.000000    0.000000  15.000000  27.250000   \n",
      "\n",
      "         no_of_CTA  ...  is_image  is_personalised  is_quote  is_timer  \\\n",
      "Mean      4.222458  ...  0.909958         0.056674  0.834216       0.0   \n",
      "Median    3.000000  ...  1.000000         0.000000  1.000000       0.0   \n",
      "Mode      3.000000  ...  0.000000         0.000000  0.000000       0.0   \n",
      "Std Dev   4.628348  ...  0.866467         0.231279  1.033901       0.0   \n",
      "Range    49.000000  ...  6.000000         1.000000  6.000000       0.0   \n",
      "Q1        2.000000  ...  0.000000         0.000000  0.000000       0.0   \n",
      "Q2        3.000000  ...  1.000000         0.000000  1.000000       0.0   \n",
      "Q3        5.000000  ...  2.000000         0.000000  1.000000       0.0   \n",
      "\n",
      "         is_emoticons  is_discount      is_price  is_urgency  target_audience  \\\n",
      "Mean         0.210805     0.039725     40.197034    0.112288        11.634534   \n",
      "Median       0.000000     0.000000      0.000000    0.000000        12.000000   \n",
      "Mode         0.000000     0.000000      0.000000    0.000000        12.000000   \n",
      "Std Dev      0.613442     0.195363    553.957470    0.315804         2.949121   \n",
      "Range        6.000000     1.000000  14999.000000    1.000000        16.000000   \n",
      "Q1           0.000000     0.000000      0.000000    0.000000        12.000000   \n",
      "Q2           0.000000     0.000000      0.000000    0.000000        12.000000   \n",
      "Q3           0.000000     0.000000      0.000000    0.000000        12.000000   \n",
      "\n",
      "         click_rate  \n",
      "Mean       0.041888  \n",
      "Median     0.010686  \n",
      "Mode       0.000000  \n",
      "Std Dev    0.084223  \n",
      "Range      0.897959  \n",
      "Q1         0.005413  \n",
      "Q2         0.010686  \n",
      "Q3         0.035589  \n",
      "\n",
      "[8 rows x 21 columns]\n"
     ]
    }
   ],
   "source": [
    "#Section 1 Questions\n",
    "\n",
    "#Calculate the mean, median, mode, standard deviation, range, and quartile for all columns.\n",
    "\n",
    "import pandas as pd\n",
    "from scipy import stats\n",
    "\n",
    "my=pd.read_csv(\"camp.csv\")\n",
    "\n",
    "cols_to_analyze = [col for col in my.columns if col != 'times_of_day']\n",
    "stats = pd.DataFrame()\n",
    "for col in cols_to_analyze:\n",
    "    # Remove non-numeric values from the column (if any)\n",
    "    numericvals = pd.to_numeric(my[col], errors='coerce').dropna()\n",
    "    stats.loc['Mean', col] = numericvals.mean()\n",
    "    stats.loc['Median', col] = numericvals.median()\n",
    "    mode = numericvals.mode()\n",
    "    if len(mode) > 0:\n",
    "        stats.loc['Mode', col] = mode.iloc[0]\n",
    "    else:\n",
    "        stats.loc['Mode', col] = 'N/A'\n",
    "    stats.loc['Std Dev', col] = numericvals.std()\n",
    "    stats.loc['Range', col] = numericvals.max() - numericvals.min()\n",
    "    stats.loc['Q1', col] = numericvals.quantile(0.25)\n",
    "    stats.loc['Q2', col] = numericvals.quantile(0.5)\n",
    "    stats.loc['Q3', col] = numericvals.quantile(0.75)\n",
    "\n",
    "print(stats)\n"
   ]
  },
  {
   "cell_type": "code",
   "execution_count": 19,
   "id": "311627de",
   "metadata": {},
   "outputs": [
    {
     "name": "stdout",
     "output_type": "stream",
     "text": [
      "click_rate z-score:\n",
      " 0    0.726542\n",
      "1    7.813948\n",
      "2   -0.464466\n",
      "3   -0.368307\n",
      "4    1.198472\n",
      "Name: click_rate, dtype: float64\n",
      "click_rate min-max scale:\n",
      " 0    0.114793\n",
      "1    0.779545\n",
      "2    0.003084\n",
      "3    0.012103\n",
      "4    0.159056\n",
      "Name: click_rate, dtype: float64\n"
     ]
    }
   ],
   "source": [
    "#2.Transform the [Click_Rate] series into z-score and max-min.\n",
    "#Transform Click_Rate into z-score\n",
    "my=pd.read_csv(\"camp.csv\")\n",
    "click_rate_zscore = (my['click_rate'] - my['click_rate'].mean()) / my['click_rate'].std()\n",
    "print('click_rate z-score:\\n', click_rate_zscore.head())\n",
    "\n",
    "# Transform Click_Rate into min-max scale\n",
    "click_rate_minmax = (my['click_rate'] - my['click_rate'].min()) / (my['click_rate'].max() - my['click_rate'].min())\n",
    "print('click_rate min-max scale:\\n', click_rate_minmax.head())"
   ]
  },
  {
   "cell_type": "code",
   "execution_count": 25,
   "id": "0e72ba79",
   "metadata": {},
   "outputs": [],
   "source": [
    "#3.Prepare boxplot and count the number of outliers present out of IQR. [Click_Rate].\n",
    "#import packages in python\n",
    "import pandas as pd\n",
    "import numpy as np\n",
    "import matplotlib.pyplot as plt\n",
    "import os"
   ]
  },
  {
   "cell_type": "code",
   "execution_count": 22,
   "id": "30002856",
   "metadata": {},
   "outputs": [
    {
     "data": {
      "image/png": "[encoded data removed]",
      "text/plain": [
       "<Figure size 640x480 with 1 Axes>"
      ]
     },
     "metadata": {},
     "output_type": "display_data"
    },
    {
     "name": "stdout",
     "output_type": "stream",
     "text": [
      "Number of outliers outside the IQR: 268\n"
     ]
    }
   ],
   "source": [
    "#4.Study the linear relationship among all columns using scatter plot and find out high linearly correlated columns.\n",
    "plt.boxplot(my['click_rate'])\n",
    "plt.title('Box plot of click_rate')\n",
    "plt.ylabel('click_rate')\n",
    "plt.show()\n",
    "\n",
    "my=pd.read_csv(\"camp.csv\")\n",
    "\n",
    "# Calculate the interquartile range (IQR)\n",
    "q1 = my['click_rate'].quantile(0.25)\n",
    "q3 = my['click_rate'].quantile(0.75)\n",
    "iqr = q3 - q1\n",
    "\n",
    "# Calculate the upper and lower bounds for outliers\n",
    "upper_bound = q3 + 1.5 * iqr\n",
    "lower_bound = q1 - 1.5 * iqr\n",
    "\n",
    "# Count the number of outliers outside the IQR\n",
    "num_outliers = ((my['click_rate'] < lower_bound) | (my['click_rate'] > upper_bound)).sum()\n",
    "print('Number of outliers outside the IQR:', num_outliers)"
   ]
  },
  {
   "cell_type": "code",
   "execution_count": 23,
   "id": "c3bbafc8",
   "metadata": {},
   "outputs": [
    {
     "name": "stdout",
     "output_type": "stream",
     "text": [
      "Highly correlated columns: {'is_weekend', 'day_of_week'}\n"
     ]
    }
   ],
   "source": [
    "# 5.Non-linear data can be tricky for the Pearson correlation coefficient to estimate relationship therefore evaluate the Spearman correlation coefficient and find out high correlated columns Calculate the Spearman correlation coefficients.\n",
    "corr_matrix = my.corr(method='spearman')\n",
    "\n",
    "# Find the highly correlated columns\n",
    "high_corr_cols = set()\n",
    "for col in corr_matrix.columns:\n",
    "    for idx, val in corr_matrix[col].items():\n",
    "        if col != idx and abs(val) > 0.7:\n",
    "            high_corr_cols.add(col)\n",
    "            high_corr_cols.add(idx)\n",
    "\n",
    "print('Highly correlated columns:', high_corr_cols)"
   ]
  },
  {
   "cell_type": "code",
   "execution_count": 24,
   "id": "e68d4b98",
   "metadata": {},
   "outputs": [
    {
     "name": "stdout",
     "output_type": "stream",
     "text": [
      "Shapiro-Wilk test: stat=0.491, p=0.000\n",
      "Sample does not look Gaussian (reject H0)\n"
     ]
    }
   ],
   "source": [
    "#6. Check whether the series given in the data column [Click_Rate] is following the normality assumption using any two methods and transform the series into normal distribution if series is not normal.\n",
    "\n",
    "from scipy.stats import shapiro\n",
    "\n",
    "# Extract the Click_Rate column as a Series\n",
    "click_rate = my['click_rate']\n",
    "\n",
    "# Test for normality using Shapiro-Wilk test\n",
    "stat, p = shapiro(click_rate)\n",
    "print('Shapiro-Wilk test: stat=%.3f, p=%.3f' % (stat, p))\n",
    "alpha = 0.05\n",
    "if p > alpha:\n",
    "    print('Sample looks Gaussian (fail to reject H0)')\n",
    "else:\n",
    "    print('Sample does not look Gaussian (reject H0)')"
   ]
  },
  {
   "cell_type": "code",
   "execution_count": null,
   "id": "c510c342",
   "metadata": {},
   "outputs": [],
   "source": []
  }
 ],
 "metadata": {
  "kernelspec": {
   "display_name": "Python 3 (ipykernel)",
   "language": "python",
   "name": "python3"
  },
  "language_info": {
   "codemirror_mode": {
    "name": "ipython",
    "version": 3
   },
   "file_extension": ".py",
   "mimetype": "text/x-python",
   "name": "python",
   "nbconvert_exporter": "python",
   "pygments_lexer": "ipython3",
   "version": "3.9.13"
  }
 },
 "nbformat": 4,
 "nbformat_minor": 5
}
